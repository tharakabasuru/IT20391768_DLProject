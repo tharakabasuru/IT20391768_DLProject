{
 "cells": [
  {
   "cell_type": "code",
   "execution_count": 1,
   "id": "d665b97f-ff1f-4289-8518-3f55a26a605e",
   "metadata": {},
   "outputs": [
    {
     "name": "stderr",
     "output_type": "stream",
     "text": [
      "WARNING:absl:Compiled the loaded model, but the compiled metrics have yet to be built. `model.compile_metrics` will be empty until you train or evaluate the model.\n"
     ]
    }
   ],
   "source": [
    "import numpy as np\n",
    "import matplotlib.pyplot as plt\n",
    "from tensorflow.keras.models import load_model\n",
    "from tensorflow.keras.preprocessing.image import load_img, img_to_array\n",
    "\n",
    "# Loading the model\n",
    "model = load_model('vgg16_cifar10_model.h5')\n"
   ]
  },
  {
   "cell_type": "code",
   "execution_count": 22,
   "id": "97c3f8f8-326a-4d53-9cfb-b09eb523c018",
   "metadata": {},
   "outputs": [],
   "source": [
    "\n",
    "# Defining CIFAR-10 class labels\n",
    "class_labels = ['airplane', 'automobile', 'bird', 'cat', 'deer', 'dog', 'frog', 'horse', 'ship', 'truck']\n"
   ]
  },
  {
   "cell_type": "code",
   "execution_count": 23,
   "id": "e3acdbb8-1600-433d-9e64-76719066fd68",
   "metadata": {},
   "outputs": [],
   "source": [
    "\n",
    "# Preprocess function \n",
    "def preprocess_image(image_path):\n",
    "    # Load the image, resize, convert to array\n",
    "    img = load_img(image_path, target_size=(32, 32))\n",
    "    img_array = img_to_array(img)\n",
    "    \n",
    "    # Normalizing\n",
    "    img_array = img_array.astype('float32') / 255.0\n",
    "    \n",
    "    # Adding a batch dimension \n",
    "    img_array = np.expand_dims(img_array, axis=0)\n",
    "    \n",
    "    return img_array\n"
   ]
  },
  {
   "cell_type": "code",
   "execution_count": 24,
   "id": "dbdb9d22-e2cc-41a0-8df3-4dbc3c713916",
   "metadata": {},
   "outputs": [],
   "source": [
    "\n",
    "# Prediction function \n",
    "def predict_image(image_path):\n",
    "    # Preprocessing the input image\n",
    "    processed_image = preprocess_image(image_path)\n",
    "    \n",
    "    # Predicting using the model\n",
    "    prediction = model.predict(processed_image)\n",
    "    \n",
    "    predicted_class = np.argmax(prediction, axis=1)[0]\n",
    "    \n",
    "    predicted_label = class_labels[predicted_class]\n",
    "    \n",
    "    return predicted_label\n"
   ]
  },
  {
   "cell_type": "code",
   "execution_count": 25,
   "id": "455f9307-642c-4e4b-8af4-88f1c1e408c6",
   "metadata": {},
   "outputs": [],
   "source": [
    "\n",
    "# Display function\n",
    "def display_prediction(image_path):\n",
    "    \n",
    "    img = load_img(image_path, target_size=(32, 32))\n",
    "    plt.imshow(img)\n",
    "    plt.axis('off')\n",
    "    plt.show()\n",
    "    \n",
    "    # Predict and display the result\n",
    "    predicted_label = predict_image(image_path)\n",
    "    print(f\"Predicted Class: {predicted_label}\")\n"
   ]
  },
  {
   "cell_type": "code",
   "execution_count": 26,
   "id": "24d74bba-5d89-4c5e-9efd-12fd7e682561",
   "metadata": {},
   "outputs": [
    {
     "data": {
      "image/png": "[encoded data removed]",
      "text/plain": [
       "<Figure size 640x480 with 1 Axes>"
      ]
     },
     "metadata": {},
     "output_type": "display_data"
    },
    {
     "name": "stdout",
     "output_type": "stream",
     "text": [
      "\u001b[1m1/1\u001b[0m \u001b[32m━━━━━━━━━━━━━━━━━━━━\u001b[0m\u001b[37m\u001b[0m \u001b[1m0s\u001b[0m 50ms/step\n",
      "Predicted Class: airplane\n"
     ]
    }
   ],
   "source": [
    "\n",
    "\n",
    "image_path = 'C:/Users/thara/dl_project/plane.jpg'  \n",
    "display_prediction(image_path)"
   ]
  },
  {
   "cell_type": "code",
   "execution_count": 37,
   "id": "d9cfa348-c4a6-4498-80cc-95f205428e2f",
   "metadata": {},
   "outputs": [
    {
     "data": {
      "image/png": "[encoded data removed]",
      "text/plain": [
       "<Figure size 640x480 with 1 Axes>"
      ]
     },
     "metadata": {},
     "output_type": "display_data"
    },
    {
     "name": "stdout",
     "output_type": "stream",
     "text": [
      "\u001b[1m1/1\u001b[0m \u001b[32m━━━━━━━━━━━━━━━━━━━━\u001b[0m\u001b[37m\u001b[0m \u001b[1m0s\u001b[0m 48ms/step\n",
      "Predicted Class: dog\n"
     ]
    }
   ],
   "source": [
    "image_path = 'C:/Users/thara/dl_project/dog.jpg'  \n",
    "display_prediction(image_path)"
   ]
  },
  {
   "cell_type": "code",
   "execution_count": null,
   "id": "6e329a39-618e-4dc7-b107-9336b5f8440e",
   "metadata": {},
   "outputs": [],
   "source": []
  }
 ],
 "metadata": {
  "kernelspec": {
   "display_name": "Python 3 (ipykernel)",
   "language": "python",
   "name": "python3"
  },
  "language_info": {
   "codemirror_mode": {
    "name": "ipython",
    "version": 3
   },
   "file_extension": ".py",
   "mimetype": "text/x-python",
   "name": "python",
   "nbconvert_exporter": "python",
   "pygments_lexer": "ipython3",
   "version": "3.12.4"
  }
 },
 "nbformat": 4,
 "nbformat_minor": 5
}
